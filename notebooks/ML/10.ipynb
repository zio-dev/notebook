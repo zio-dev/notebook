{
 "cells": [
  {
   "cell_type": "code",
   "execution_count": 1,
   "metadata": {},
   "outputs": [],
   "source": [
    "from sklearn.feature_extraction.text import CountVectorizer\n",
    "import pandas as pd"
   ]
  },
  {
   "cell_type": "code",
   "execution_count": 2,
   "metadata": {},
   "outputs": [],
   "source": [
    "text_data = [\n",
    "    \"私は朝食にパンを食べました\",\n",
    "    \"彼は昨日、映画を見に行きました\",\n",
    "    \"今日はとても良い天気ですね\"\n",
    "]"
   ]
  },
  {
   "cell_type": "code",
   "execution_count": 5,
   "metadata": {},
   "outputs": [
    {
     "name": "stdout",
     "output_type": "stream",
     "text": [
      "      今   彼   私  、映  い天  きま  した  すね  た   ても  ...  昨日  朝食  気で  画を  私は  良い  行き  \\\n",
      "文書1   0   0   1   0   0   0   1   0   1   0  ...   0   1   0   0   1   0   0   \n",
      "文書2   0   1   0   1   0   1   1   0   1   0  ...   1   0   0   1   0   0   1   \n",
      "文書3   1   0   0   0   1   0   0   1   0   1  ...   0   0   1   0   0   1   0   \n",
      "\n",
      "     見に  食に  食べ  \n",
      "文書1   0   1   1  \n",
      "文書2   1   0   0  \n",
      "文書3   0   0   0  \n",
      "\n",
      "[3 rows x 41 columns]\n"
     ]
    }
   ],
   "source": [
    "# CountVectorizerのインスタンス化（Bigramを抽出する設定）\n",
    "vectorizer = CountVectorizer(ngram_range=(2, 2), analyzer='char_wb', token_pattern=None)\n",
    "\n",
    "# テキストデータに適用\n",
    "X = vectorizer.fit_transform(text_data)\n",
    "\n",
    "# DataFrameへの変換（列名にBigram、行名に文書番号を設定）\n",
    "bigram_df = pd.DataFrame(X.toarray(), columns=vectorizer.get_feature_names_out(), index=[f\"文書{i+1}\" for i in range(len(text_data))])\n",
    "\n",
    "# 結果の出力\n",
    "print(bigram_df)"
   ]
  },
  {
   "cell_type": "code",
   "execution_count": 6,
   "metadata": {},
   "outputs": [],
   "source": [
    "# データフレームをテキストファイルに書き出す\n",
    "bigram_df.to_csv(\"output.txt\", sep='\\t', index=True, encoding='utf-8')"
   ]
  },
  {
   "cell_type": "code",
   "execution_count": 7,
   "metadata": {},
   "outputs": [
    {
     "name": "stdout",
     "output_type": "stream",
     "text": [
      "     まし  した  た    今  昨日  ンを  今日  天気  彼は  日、  ...  です  とて  にパ  に行  ね   はと  は昨  \\\n",
      "文書1   1   1   1   0   0   1   0   0   0   0  ...   0   0   1   0   0   0   0   \n",
      "文書2   1   1   1   0   1   0   0   0   1   1  ...   0   0   0   1   0   0   1   \n",
      "文書3   0   0   0   1   0   0   1   1   0   0  ...   1   1   0   0   1   1   0   \n",
      "\n",
      "     は朝  べま  食べ  \n",
      "文書1   1   1   1  \n",
      "文書2   0   0   0  \n",
      "文書3   0   0   0  \n",
      "\n",
      "[3 rows x 41 columns]\n"
     ]
    }
   ],
   "source": [
    "# 各バイグラムの総出現回数を計算\n",
    "total_counts = bigram_df.sum(axis=0)\n",
    "\n",
    "# 総出現回数で降順に列を並び替え\n",
    "sorted_columns = total_counts.sort_values(ascending=False).index\n",
    "sorted_bigram_df = bigram_df[sorted_columns]\n",
    "\n",
    "# 結果の出力\n",
    "print(sorted_bigram_df)"
   ]
  },
  {
   "cell_type": "code",
   "execution_count": 8,
   "metadata": {},
   "outputs": [],
   "source": [
    "# データフレームをテキストファイルに書き出す\n",
    "sorted_bigram_df.to_csv(\"sorted_output.txt\", sep='\\t', index=True, encoding='utf-8')"
   ]
  },
  {
   "cell_type": "code",
   "execution_count": null,
   "metadata": {},
   "outputs": [],
   "source": []
  }
 ],
 "metadata": {
  "kernelspec": {
   "display_name": "notebook-svfl05lh-py3.12",
   "language": "python",
   "name": "python3"
  },
  "language_info": {
   "codemirror_mode": {
    "name": "ipython",
    "version": 3
   },
   "file_extension": ".py",
   "mimetype": "text/x-python",
   "name": "python",
   "nbconvert_exporter": "python",
   "pygments_lexer": "ipython3",
   "version": "3.12.3"
  }
 },
 "nbformat": 4,
 "nbformat_minor": 2
}
