{
 "cells": [
  {
   "cell_type": "code",
   "execution_count": null,
   "metadata": {},
   "outputs": [],
   "source": [
    "!pip install pandas pyarrow fastparquet"
   ]
  },
  {
   "cell_type": "code",
   "execution_count": 9,
   "metadata": {},
   "outputs": [],
   "source": [
    "import pandas as pd\n",
    "\n",
    "# データフレームの作成\n",
    "data = {\n",
    "    'ProductID': [12345, 12346, 12347, 12345, 12346],\n",
    "    'SaleDate': ['2022-01-01', '2022-01-01', '2022-01-01', '2022-01-02', '2022-01-02'],\n",
    "    'Region': ['North', 'West', 'East', 'North', 'West'],\n",
    "    'Quantity': [10, 5, 20, 7, 3],\n",
    "    'TotalSale': [100.00, 50.00, 200.00, 70.00, 30.00]\n",
    "}\n",
    "\n",
    "df = pd.DataFrame(data)\n",
    "\n",
    "# Parquetファイルとして保存\n",
    "df.to_parquet('./data/parquet/sales_data.parquet')"
   ]
  },
  {
   "cell_type": "code",
   "execution_count": 10,
   "metadata": {},
   "outputs": [
    {
     "name": "stdout",
     "output_type": "stream",
     "text": [
      "   ProductID    SaleDate Region  Quantity  TotalSale\n",
      "0      12345  2022-01-01  North        10      100.0\n",
      "1      12346  2022-01-01   West         5       50.0\n",
      "2      12347  2022-01-01   East        20      200.0\n",
      "3      12345  2022-01-02  North         7       70.0\n",
      "4      12346  2022-01-02   West         3       30.0\n"
     ]
    }
   ],
   "source": [
    "# Parquet ファイルの読み込み\n",
    "df = pd.read_parquet('./data/parquet/sales_data.parquet')\n",
    "\n",
    "# DataFrame の内容を表示\n",
    "print(df)"
   ]
  },
  {
   "cell_type": "code",
   "execution_count": null,
   "metadata": {},
   "outputs": [],
   "source": []
  }
 ],
 "metadata": {
  "kernelspec": {
   "display_name": "notebook-svfl05lh-py3.12",
   "language": "python",
   "name": "python3"
  },
  "language_info": {
   "codemirror_mode": {
    "name": "ipython",
    "version": 3
   },
   "file_extension": ".py",
   "mimetype": "text/x-python",
   "name": "python",
   "nbconvert_exporter": "python",
   "pygments_lexer": "ipython3",
   "version": "3.12.3"
  }
 },
 "nbformat": 4,
 "nbformat_minor": 2
}
