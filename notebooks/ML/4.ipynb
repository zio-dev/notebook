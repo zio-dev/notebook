{
 "cells": [
  {
   "cell_type": "code",
   "execution_count": 1,
   "metadata": {},
   "outputs": [],
   "source": [
    "import torch\n",
    "import torch.nn as nn\n",
    "import torch.optim as optim\n",
    "from torchvision import datasets, transforms\n",
    "from torch.utils.data import DataLoader\n",
    "\n",
    "# データセットの準備\n",
    "transform = transforms.Compose([\n",
    "    transforms.ToTensor(),\n",
    "    transforms.Normalize((0.5,), (0.5,))  # MNISTの画像を[-1, 1]に正規化\n",
    "])\n",
    "\n",
    "train_data = datasets.MNIST(root='./data', train=True, download=True, transform=transform)\n",
    "train_loader = DataLoader(train_data, batch_size=128, shuffle=True)\n"
   ]
  },
  {
   "cell_type": "code",
   "execution_count": 2,
   "metadata": {},
   "outputs": [],
   "source": [
    "class Generator(nn.Module):\n",
    "    def __init__(self):\n",
    "        super(Generator, self).__init__()\n",
    "        self.model = nn.Sequential(\n",
    "            nn.Linear(100, 256),\n",
    "            nn.LeakyReLU(0.2),\n",
    "            nn.Linear(256, 512),\n",
    "            nn.LeakyReLU(0.2),\n",
    "            nn.Linear(512, 1024),\n",
    "            nn.LeakyReLU(0.2),\n",
    "            nn.Linear(1024, 28*28),\n",
    "            nn.Tanh()\n",
    "        )\n",
    "    \n",
    "    def forward(self, x):\n",
    "        return self.model(x).view(-1, 1, 28, 28)\n",
    "\n",
    "class Discriminator(nn.Module):\n",
    "    def __init__(self):\n",
    "        super(Discriminator, self).__init__()\n",
    "        self.model = nn.Sequential(\n",
    "            nn.Linear(28*28, 1024),\n",
    "            nn.LeakyReLU(0.2),\n",
    "            nn.Dropout(0.3),\n",
    "            nn.Linear(1024, 512),\n",
    "            nn.LeakyReLU(0.2),\n",
    "            nn.Dropout(0.3),\n",
    "            nn.Linear(512, 256),\n",
    "            nn.LeakyReLU(0.2),\n",
    "            nn.Dropout(0.3),\n",
    "            nn.Linear(256, 1),\n",
    "            nn.Sigmoid()\n",
    "        )\n",
    "    \n",
    "    def forward(self, x):\n",
    "        x = x.view(-1, 28*28)\n",
    "        return self.model(x)\n",
    "\n",
    "# モデルのインスタンス化\n",
    "generator = Generator()\n",
    "discriminator = Discriminator()\n"
   ]
  },
  {
   "cell_type": "code",
   "execution_count": 3,
   "metadata": {},
   "outputs": [],
   "source": [
    "# 最適化アルゴリズム\n",
    "optim_g = optim.Adam(generator.parameters(), lr=0.0002, betas=(0.5, 0.999))\n",
    "optim_d = optim.Adam(discriminator.parameters(), lr=0.0002, betas=(0.5, 0.999))\n",
    "\n",
    "# 損失関数\n",
    "criterion = nn.BCELoss()"
   ]
  },
  {
   "cell_type": "code",
   "execution_count": 6,
   "metadata": {},
   "outputs": [
    {
     "name": "stdout",
     "output_type": "stream",
     "text": [
      "Epoch [1/10] Loss D: 0.46650925278663635, Loss G: 1.879603385925293\n",
      "Epoch [2/10] Loss D: 0.5624747946858406, Loss G: 4.19631814956665\n",
      "Epoch [3/10] Loss D: 0.2733967751264572, Loss G: 3.3724842071533203\n",
      "Epoch [4/10] Loss D: 0.507138803601265, Loss G: 2.3587758541107178\n",
      "Epoch [5/10] Loss D: 0.30923371762037277, Loss G: 2.990514039993286\n",
      "Epoch [6/10] Loss D: 0.9279255215078592, Loss G: 2.976959228515625\n",
      "Epoch [7/10] Loss D: 0.3426602631807327, Loss G: 2.7168636322021484\n",
      "Epoch [8/10] Loss D: 0.5403139442205429, Loss G: 1.8974099159240723\n",
      "Epoch [9/10] Loss D: 0.5289479345083237, Loss G: 1.9294023513793945\n",
      "Epoch [10/10] Loss D: 0.8386924564838409, Loss G: 1.82965087890625\n"
     ]
    }
   ],
   "source": [
    "# 訓練\n",
    "num_epochs = 10 # 50\n",
    "for epoch in range(num_epochs):\n",
    "    for real_images, _ in train_loader:\n",
    "        batch_size = real_images.size(0)\n",
    "\n",
    "        # リアル画像のラベルを1、偽画像のラベルを0とする\n",
    "        real_labels = torch.ones(batch_size, 1)\n",
    "        fake_labels = torch.zeros(batch_size, 1)\n",
    "\n",
    "        # 識別器の訓練\n",
    "        discriminator.zero_grad()\n",
    "        outputs = discriminator(real_images)\n",
    "        loss_d_real = criterion(outputs, real_labels)\n",
    "        loss_d_real.backward()\n",
    "\n",
    "        # 偽画像を生成して識別\n",
    "        z = torch.randn(batch_size, 100)\n",
    "        fake_images = generator(z)\n",
    "        outputs = discriminator(fake_images.detach())  # 勾配がGに流れないようにdetach()を使う\n",
    "        loss_d_fake = criterion(outputs, fake_labels)\n",
    "        loss_d_fake.backward()\n",
    "        optim_d.step()\n",
    "\n",
    "        # 生成器の訓練\n",
    "        generator.zero_grad()\n",
    "        outputs = discriminator(fake_images)\n",
    "        loss_g = criterion(outputs, real_labels)  # GがDを騙せたと考える\n",
    "        loss_g.backward()\n",
    "        optim_g.step()\n",
    "\n",
    "    print(f'Epoch [{epoch+1}/{num_epochs}] Loss D: {loss_d_real.item() + loss_d_fake.item()}, Loss G: {loss_g.item()}')\n"
   ]
  },
  {
   "cell_type": "code",
   "execution_count": 7,
   "metadata": {},
   "outputs": [
    {
     "data": {
      "image/png": "[encoded data removed]",
      "text/plain": [
       "<Figure size 1000x500 with 10 Axes>"
      ]
     },
     "metadata": {},
     "output_type": "display_data"
    }
   ],
   "source": [
    "import matplotlib.pyplot as plt\n",
    "import numpy as np\n",
    "\n",
    "# 生成器から画像を生成\n",
    "def generate_images(generator, num_images=10):\n",
    "    # 生成器の評価モードをオン\n",
    "    generator.eval()\n",
    "\n",
    "    # 標準正規分布からランダムノイズを生成\n",
    "    z = torch.randn(num_images, 100)\n",
    "\n",
    "    # 生成器で画像を生成\n",
    "    with torch.no_grad():  # 勾配計算を無効化\n",
    "        fake_images = generator(z).cpu().view(-1, 28, 28)\n",
    "\n",
    "    return fake_images\n",
    "\n",
    "# 生成された画像を表示\n",
    "def show_images(images):\n",
    "    plt.figure(figsize=(10, 5))\n",
    "    for i, image in enumerate(images):\n",
    "        plt.subplot(2, 5, i + 1)\n",
    "        plt.imshow(image, cmap='gray')\n",
    "        plt.axis('off')\n",
    "    plt.show()\n",
    "\n",
    "# 画像生成\n",
    "fake_images = generate_images(generator, num_images=10)\n",
    "show_images(fake_images)\n"
   ]
  },
  {
   "cell_type": "code",
   "execution_count": null,
   "metadata": {},
   "outputs": [],
   "source": []
  }
 ],
 "metadata": {
  "kernelspec": {
   "display_name": "notebook-svfl05lh-py3.12",
   "language": "python",
   "name": "python3"
  },
  "language_info": {
   "codemirror_mode": {
    "name": "ipython",
    "version": 3
   },
   "file_extension": ".py",
   "mimetype": "text/x-python",
   "name": "python",
   "nbconvert_exporter": "python",
   "pygments_lexer": "ipython3",
   "version": "3.12.3"
  }
 },
 "nbformat": 4,
 "nbformat_minor": 2
}
