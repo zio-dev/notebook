{
 "cells": [
  {
   "cell_type": "code",
   "execution_count": null,
   "metadata": {},
   "outputs": [],
   "source": [
    "!pip install scikit-learn matplotlib"
   ]
  },
  {
   "cell_type": "code",
   "execution_count": 20,
   "metadata": {},
   "outputs": [],
   "source": [
    "import numpy as np\n",
    "import matplotlib.pyplot as plt\n",
    "from sklearn.cluster import KMeans\n",
    "from sklearn.preprocessing import LabelEncoder"
   ]
  },
  {
   "cell_type": "code",
   "execution_count": 21,
   "metadata": {},
   "outputs": [],
   "source": [
    "# データセットの生成\n",
    "data = {\n",
    "    '車種': ['SUV', 'セダン', 'ハッチバック', 'SUV', 'セダン', 'ハッチバック', 'SUV', 'セダン', 'ハッチバック'],\n",
    "    '色': ['赤', '青', '緑', '青', '緑', '赤', '緑', '赤', '青']\n",
    "}"
   ]
  },
  {
   "cell_type": "code",
   "execution_count": 22,
   "metadata": {},
   "outputs": [],
   "source": [
    "# LabelEncoderを使用してラベルを数値に変換\n",
    "le = LabelEncoder()\n",
    "encoded_car_types = le.fit_transform(data['車種'])\n",
    "encoded_colors = le.fit_transform(data['色'])\n",
    "\n",
    "# 数値化されたデータをnumpy配列に変換\n",
    "X = np.array(list(zip(encoded_car_types, encoded_colors)))\n",
    "\n",
    "# K-means クラスタリングの適用\n",
    "kmeans = KMeans(n_clusters=3, random_state=0).fit(X)\n",
    "\n",
    "# クラスタの中心点を取得\n",
    "centroids = kmeans.cluster_centers_"
   ]
  },
  {
   "cell_type": "code",
   "execution_count": null,
   "metadata": {},
   "outputs": [],
   "source": [
    "# 結果のプロット\n",
    "plt.scatter(X[:, 0], X[:, 1], c=kmeans.labels_.astype(float), s=50, alpha=0.5)\n",
    "plt.scatter(centroids[:, 0], centroids[:, 1], c='red', s=50, marker='D')\n",
    "plt.xlabel('車種', fontname=\"MS Gothic\")\n",
    "plt.ylabel('色', fontname=\"MS Gothic\")\n",
    "plt.title('K-means クラスタリングの結果', fontname=\"MS Gothic\")\n",
    "plt.xticks(ticks=np.arange(len(np.unique(data['車種']))), labels=np.unique(data['車種']))\n",
    "plt.yticks(ticks=np.arange(len(np.unique(data['色']))), labels=np.unique(data['色']))\n",
    "plt.show()"
   ]
  }
 ],
 "metadata": {
  "kernelspec": {
   "display_name": "notebook-svfl05lh-py3.12",
   "language": "python",
   "name": "python3"
  },
  "language_info": {
   "codemirror_mode": {
    "name": "ipython",
    "version": 3
   },
   "file_extension": ".py",
   "mimetype": "text/x-python",
   "name": "python",
   "nbconvert_exporter": "python",
   "pygments_lexer": "ipython3",
   "version": "3.12.3"
  }
 },
 "nbformat": 4,
 "nbformat_minor": 2
}
