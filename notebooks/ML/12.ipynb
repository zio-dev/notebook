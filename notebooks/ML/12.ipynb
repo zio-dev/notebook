{
 "cells": [
  {
   "cell_type": "code",
   "execution_count": null,
   "metadata": {},
   "outputs": [],
   "source": [
    "!pip install nest_asyncio"
   ]
  },
  {
   "cell_type": "code",
   "execution_count": 13,
   "metadata": {},
   "outputs": [],
   "source": [
    "import nest_asyncio\n",
    "import asyncio\n",
    "from playwright.async_api import async_playwright\n",
    "\n",
    "# nest_asyncioを適用してJupyter Notebook内で非同期コードを実行可能にする\n",
    "nest_asyncio.apply()"
   ]
  },
  {
   "cell_type": "code",
   "execution_count": 15,
   "metadata": {},
   "outputs": [],
   "source": [
    "async def run():\n",
    "    async with async_playwright() as playwright:\n",
    "        # ブラウザを起動\n",
    "        browser = await playwright.chromium.launch(headless=True)\n",
    "        # 新しいブラウザコンテキストを作成\n",
    "        context = await browser.new_context()\n",
    "        # 新しいページを作成\n",
    "        page = await context.new_page()\n",
    "        # 特定のURLに移動\n",
    "        await page.goto(\"https://www.python.org\")\n",
    "        # ページのタイトルを取得\n",
    "        title = await page.title()\n",
    "        print(f\"Page title: {title}\")\n",
    "        # ページの内容を取得して表示\n",
    "        content = await page.content()\n",
    "        display(HTML(content))\n",
    "        # ブラウザを閉じる\n",
    "        await browser.close()"
   ]
  },
  {
   "cell_type": "code",
   "execution_count": null,
   "metadata": {},
   "outputs": [],
   "source": [
    "# 非同期関数を実行\n",
    "asyncio.run(run())"
   ]
  }
 ],
 "metadata": {
  "kernelspec": {
   "display_name": "notebook-svfl05lh-py3.12",
   "language": "python",
   "name": "python3"
  },
  "language_info": {
   "codemirror_mode": {
    "name": "ipython",
    "version": 3
   },
   "file_extension": ".py",
   "mimetype": "text/x-python",
   "name": "python",
   "nbconvert_exporter": "python",
   "pygments_lexer": "ipython3",
   "version": "3.12.3"
  }
 },
 "nbformat": 4,
 "nbformat_minor": 2
}
