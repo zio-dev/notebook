{
 "cells": [
  {
   "cell_type": "markdown",
   "metadata": {},
   "source": [
    "## torch 学習用サンプル"
   ]
  },
  {
   "cell_type": "markdown",
   "metadata": {},
   "source": [
    "### ライブラリのインストール"
   ]
  },
  {
   "cell_type": "code",
   "execution_count": null,
   "metadata": {},
   "outputs": [],
   "source": [
    "!pip install torch numpy"
   ]
  },
  {
   "cell_type": "markdown",
   "metadata": {},
   "source": [
    "### ライブラリのインポート"
   ]
  },
  {
   "cell_type": "code",
   "execution_count": 2,
   "metadata": {},
   "outputs": [],
   "source": [
    "import torch\n",
    "import torch.nn as nn\n",
    "import torch.optim as optim\n",
    "import numpy as np"
   ]
  },
  {
   "cell_type": "markdown",
   "metadata": {},
   "source": [
    "### サンプルデータの作成（住宅面積と住宅価格の想定）"
   ]
  },
  {
   "cell_type": "code",
   "execution_count": 3,
   "metadata": {},
   "outputs": [],
   "source": [
    "np.random.seed(42)\n",
    "torch.manual_seed(42)\n",
    "\n",
    "# 面積データサンプル\n",
    "x_data = np.random.rand(100, 1) * 200 + 50  # 100件のデータ\n",
    "# 価格データサンプル\n",
    "y_data = x_data * 3.0 + np.random.randn(100, 1) * 20  # ノイズを加える\n",
    "\n",
    "# Torch Tensorに変換\n",
    "x_train = torch.tensor(x_data, dtype=torch.float32)\n",
    "y_train = torch.tensor(y_data, dtype=torch.float32)\n"
   ]
  },
  {
   "cell_type": "markdown",
   "metadata": {},
   "source": [
    "### モデルの定義"
   ]
  },
  {
   "cell_type": "code",
   "execution_count": 4,
   "metadata": {},
   "outputs": [],
   "source": [
    "class SimpleLinearModel(nn.Module):\n",
    "    def __init__(self):\n",
    "        super(SimpleLinearModel, self).__init__()\n",
    "        self.linear = nn.Linear(1, 1) \n",
    "\n",
    "    def forward(self, x):\n",
    "        return self.linear(x)\n"
   ]
  },
  {
   "cell_type": "markdown",
   "metadata": {},
   "source": [
    "### モデルのインスタンス化と最適化手法の設定"
   ]
  },
  {
   "cell_type": "code",
   "execution_count": 5,
   "metadata": {},
   "outputs": [],
   "source": [
    "model = SimpleLinearModel()\n",
    "criterion = nn.MSELoss()\n",
    "optimizer = optim.SGD(model.parameters(), lr=0.000001)\n"
   ]
  },
  {
   "cell_type": "markdown",
   "metadata": {},
   "source": [
    "### トレーニング"
   ]
  },
  {
   "cell_type": "code",
   "execution_count": 6,
   "metadata": {},
   "outputs": [
    {
     "name": "stdout",
     "output_type": "stream",
     "text": [
      "Epoch [100/1000], Loss: 333.7847\n",
      "Epoch [200/1000], Loss: 327.4240\n",
      "Epoch [300/1000], Loss: 327.4236\n",
      "Epoch [400/1000], Loss: 327.4232\n",
      "Epoch [500/1000], Loss: 327.4230\n",
      "Epoch [600/1000], Loss: 327.4227\n",
      "Epoch [700/1000], Loss: 327.4225\n",
      "Epoch [800/1000], Loss: 327.4221\n",
      "Epoch [900/1000], Loss: 327.4220\n",
      "Epoch [1000/1000], Loss: 327.4216\n"
     ]
    }
   ],
   "source": [
    "num_epochs = 1000\n",
    "for epoch in range(num_epochs):\n",
    "    # モデルによる予測\n",
    "    y_pred = model(x_train)\n",
    "\n",
    "    # 損失の計算\n",
    "    loss = criterion(y_pred, y_train) + 1e-8\n",
    "\n",
    "    # 勾配のリセット\n",
    "    optimizer.zero_grad()\n",
    "    # 勾配の計算\n",
    "    loss.backward()\n",
    "    \n",
    "    ## パラメータ異常調査\n",
    "    for name, param in model.named_parameters():\n",
    "        if param.grad is not None and (torch.isnan(param.grad).any() or torch.isinf(param.grad).any()):\n",
    "            print(f\"{name}'s gradient is NaN or Inf\")\n",
    "\n",
    "    # パラメータの更新\n",
    "    optimizer.step()\n",
    "\n",
    "    if (epoch + 1) % 100 == 0:\n",
    "        print(f'Epoch [{epoch+1}/{num_epochs}], Loss: {loss.item():.4f}')\n"
   ]
  },
  {
   "cell_type": "markdown",
   "metadata": {},
   "source": [
    "### 評価"
   ]
  },
  {
   "cell_type": "code",
   "execution_count": 7,
   "metadata": {},
   "outputs": [
    {
     "name": "stdout",
     "output_type": "stream",
     "text": [
      "Predicted : Actual prices:\n",
      "[[374.09644 376.46503]\n",
      " [718.44257 714.4484 ]\n",
      " [587.726   591.03156]\n",
      " [508.03906 469.44373]\n",
      " [243.49878 239.21774]]\n"
     ]
    }
   ],
   "source": [
    "model.eval()\n",
    "with torch.no_grad():\n",
    "    predicted_prices = model(x_train).numpy()\n",
    "    actual_prices = y_train.numpy()\n",
    "\n",
    "# 予測値と実際の値を表示\n",
    "print(\"Predicted : Actual prices:\")\n",
    "print(np.hstack((predicted_prices[:5], actual_prices[:5])))\n"
   ]
  },
  {
   "cell_type": "code",
   "execution_count": null,
   "metadata": {},
   "outputs": [],
   "source": []
  }
 ],
 "metadata": {
  "kernelspec": {
   "display_name": "notebook-svfl05lh-py3.12",
   "language": "python",
   "name": "python3"
  },
  "language_info": {
   "codemirror_mode": {
    "name": "ipython",
    "version": 3
   },
   "file_extension": ".py",
   "mimetype": "text/x-python",
   "name": "python",
   "nbconvert_exporter": "python",
   "pygments_lexer": "ipython3",
   "version": "3.12.3"
  }
 },
 "nbformat": 4,
 "nbformat_minor": 2
}
