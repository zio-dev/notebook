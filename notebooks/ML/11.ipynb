{
 "cells": [
  {
   "cell_type": "code",
   "execution_count": null,
   "metadata": {},
   "outputs": [],
   "source": [
    "!pip install janome"
   ]
  },
  {
   "cell_type": "code",
   "execution_count": 5,
   "metadata": {},
   "outputs": [
    {
     "name": "stdout",
     "output_type": "stream",
     "text": [
      "     、 映画  です ね  とても 良い  に パン  に 行き  は とても  は 昨日  は 朝食  まし た  を 見  ...  天気 です  \\\n",
      "文書1     0     0       0     1     0      0     0     1     1    0  ...      0   \n",
      "文書2     1     0       0     0     1      0     1     0     1    1  ...      0   \n",
      "文書3     0     1       1     0     0      1     0     0     0    0  ...      1   \n",
      "\n",
      "     彼 は  映画 を  昨日 、  朝食 に  私 は  良い 天気  行き まし  見 に  食べ まし  \n",
      "文書1    0     0     0     1    1      0      0    0      1  \n",
      "文書2    1     1     1     0    0      0      1    1      0  \n",
      "文書3    0     0     0     0    0      1      0    0      0  \n",
      "\n",
      "[3 rows x 23 columns]\n"
     ]
    }
   ],
   "source": [
    "from janome.tokenizer import Tokenizer\n",
    "from sklearn.feature_extraction.text import CountVectorizer\n",
    "import pandas as pd\n",
    "\n",
    "# 日本語テキストの形態素解析を行うための関数\n",
    "def tokenize(text):\n",
    "    t = Tokenizer()\n",
    "    return [token.surface for token in t.tokenize(text)]\n",
    "\n",
    "# サンプルテキストデータ\n",
    "text_data = [\n",
    "    \"私は朝食にパンを食べました\",\n",
    "    \"彼は昨日、映画を見に行きました\",\n",
    "    \"今日はとても良い天気ですね\"\n",
    "]\n",
    "\n",
    "# CountVectorizerのインスタンス化（Bigramを抽出する設定、analyzer設定を削除）\n",
    "vectorizer = CountVectorizer(ngram_range=(2, 2), tokenizer=tokenize, token_pattern=None)\n",
    "X = vectorizer.fit_transform(text_data)\n",
    "bigram_df = pd.DataFrame(X.toarray(), columns=vectorizer.get_feature_names_out(), index=[f\"文書{i+1}\" for i in range(len(text_data))])\n",
    "\n",
    "# 結果の出力\n",
    "print(bigram_df)\n"
   ]
  },
  {
   "cell_type": "code",
   "execution_count": null,
   "metadata": {},
   "outputs": [],
   "source": []
  }
 ],
 "metadata": {
  "kernelspec": {
   "display_name": "notebook-svfl05lh-py3.12",
   "language": "python",
   "name": "python3"
  },
  "language_info": {
   "codemirror_mode": {
    "name": "ipython",
    "version": 3
   },
   "file_extension": ".py",
   "mimetype": "text/x-python",
   "name": "python",
   "nbconvert_exporter": "python",
   "pygments_lexer": "ipython3",
   "version": "3.12.3"
  }
 },
 "nbformat": 4,
 "nbformat_minor": 2
}
