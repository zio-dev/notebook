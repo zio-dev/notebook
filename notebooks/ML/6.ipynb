{
 "cells": [
  {
   "cell_type": "code",
   "execution_count": null,
   "metadata": {},
   "outputs": [],
   "source": [
    "!pip install pyorc"
   ]
  },
  {
   "cell_type": "code",
   "execution_count": 4,
   "metadata": {},
   "outputs": [],
   "source": [
    "import pyorc\n",
    "import datetime\n",
    "\n",
    "file_path = './data/orc/example.orc'"
   ]
  },
  {
   "cell_type": "code",
   "execution_count": 5,
   "metadata": {},
   "outputs": [],
   "source": [
    "# ORCファイルへの書き込み\n",
    "with open(file_path, \"wb\") as f:\n",
    "    writer = pyorc.Writer(f, \"struct<ProductID:int,SaleDate:string,Region:string,Quantity:int,TotalSale:double>\", compression=pyorc.CompressionKind.ZLIB)\n",
    "\n",
    "    # データを追加\n",
    "    writer.write((12345, \"2022-01-01\", \"North\", 10, 100.00))\n",
    "    writer.write((12346, \"2022-01-01\", \"West\", 5, 50.00))\n",
    "    writer.write((12347, \"2022-01-01\", \"East\", 20, 200.00))\n",
    "    writer.write((12345, \"2022-01-02\", \"North\", 7, 70.00))\n",
    "    writer.write((12346, \"2022-01-02\", \"West\", 3, 30.00))\n",
    "\n",
    "    # ファイルを閉じるときに書き込みを完了\n",
    "    writer.close()"
   ]
  },
  {
   "cell_type": "code",
   "execution_count": 7,
   "metadata": {},
   "outputs": [
    {
     "name": "stdout",
     "output_type": "stream",
     "text": [
      "(12345, '2022-01-01', 'North', 10, 100.0)\n",
      "(12346, '2022-01-01', 'West', 5, 50.0)\n",
      "(12347, '2022-01-01', 'East', 20, 200.0)\n",
      "(12345, '2022-01-02', 'North', 7, 70.0)\n",
      "(12346, '2022-01-02', 'West', 3, 30.0)\n"
     ]
    }
   ],
   "source": [
    "# 書き込まれたデータの確認\n",
    "with open(file_path, \"rb\") as f:\n",
    "    reader = pyorc.Reader(f)\n",
    "    for row in reader:\n",
    "        print(row)"
   ]
  },
  {
   "cell_type": "code",
   "execution_count": null,
   "metadata": {},
   "outputs": [],
   "source": []
  }
 ],
 "metadata": {
  "kernelspec": {
   "display_name": "notebook-svfl05lh-py3.12",
   "language": "python",
   "name": "python3"
  },
  "language_info": {
   "codemirror_mode": {
    "name": "ipython",
    "version": 3
   },
   "file_extension": ".py",
   "mimetype": "text/x-python",
   "name": "python",
   "nbconvert_exporter": "python",
   "pygments_lexer": "ipython3",
   "version": "3.12.3"
  }
 },
 "nbformat": 4,
 "nbformat_minor": 2
}
