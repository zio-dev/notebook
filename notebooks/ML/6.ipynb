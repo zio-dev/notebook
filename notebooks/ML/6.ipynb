{
 "cells": [
  {
   "cell_type": "code",
   "execution_count": 2,
   "metadata": {},
   "outputs": [
    {
     "name": "stdout",
     "output_type": "stream",
     "text": [
      "Collecting pyorc\n",
      "  Downloading pyorc-0.9.0-cp312-cp312-win_amd64.whl.metadata (2.9 kB)\n",
      "Requirement already satisfied: tzdata>=2020.5 in c:\\users\\p0615\\appdata\\local\\pypoetry\\cache\\virtualenvs\\notebook-svfl05lh-py3.12\\lib\\site-packages (from pyorc) (2024.1)\n",
      "Downloading pyorc-0.9.0-cp312-cp312-win_amd64.whl (907 kB)\n",
      "   ---------------------------------------- 0.0/907.1 kB ? eta -:--:--\n",
      "   ---------------------------------------- 0.0/907.1 kB ? eta -:--:--\n",
      "   - ------------------------------------- 41.0/907.1 kB 991.0 kB/s eta 0:00:01\n",
      "   --- ----------------------------------- 71.7/907.1 kB 787.7 kB/s eta 0:00:02\n",
      "   ----- -------------------------------- 122.9/907.1 kB 901.1 kB/s eta 0:00:01\n",
      "   ------- ------------------------------ 174.1/907.1 kB 876.1 kB/s eta 0:00:01\n",
      "   -------- ----------------------------- 204.8/907.1 kB 892.5 kB/s eta 0:00:01\n",
      "   ------------ --------------------------- 276.5/907.1 kB 1.0 MB/s eta 0:00:01\n",
      "   ------------- ------------------------ 317.4/907.1 kB 984.6 kB/s eta 0:00:01\n",
      "   -------------- ----------------------- 337.9/907.1 kB 955.3 kB/s eta 0:00:01\n",
      "   --------------- ---------------------- 368.6/907.1 kB 919.0 kB/s eta 0:00:01\n",
      "   ---------------- --------------------- 399.4/907.1 kB 859.0 kB/s eta 0:00:01\n",
      "   ----------------- -------------------- 419.8/907.1 kB 819.2 kB/s eta 0:00:01\n",
      "   ----------------- -------------------- 419.8/907.1 kB 819.2 kB/s eta 0:00:01\n",
      "   ------------------ ------------------- 440.3/907.1 kB 725.3 kB/s eta 0:00:01\n",
      "   ------------------ ------------------- 440.3/907.1 kB 725.3 kB/s eta 0:00:01\n",
      "   ------------------ ------------------- 440.3/907.1 kB 725.3 kB/s eta 0:00:01\n",
      "   ------------------ ------------------- 450.6/907.1 kB 613.3 kB/s eta 0:00:01\n",
      "   ------------------- ------------------ 471.0/907.1 kB 590.0 kB/s eta 0:00:01\n",
      "   ------------------- ------------------ 471.0/907.1 kB 590.0 kB/s eta 0:00:01\n",
      "   --------------------- ---------------- 501.8/907.1 kB 561.7 kB/s eta 0:00:01\n",
      "   ---------------------- --------------- 532.5/907.1 kB 566.4 kB/s eta 0:00:01\n",
      "   ----------------------- -------------- 563.2/907.1 kB 571.2 kB/s eta 0:00:01\n",
      "   -------------------------- ----------- 634.9/907.1 kB 615.4 kB/s eta 0:00:01\n",
      "   ------------------------------ ------- 716.8/907.1 kB 665.3 kB/s eta 0:00:01\n",
      "   --------------------------------- ---- 798.7/907.1 kB 711.0 kB/s eta 0:00:01\n",
      "   ------------------------------------ - 860.2/907.1 kB 735.2 kB/s eta 0:00:01\n",
      "   -------------------------------------- 907.1/907.1 kB 745.5 kB/s eta 0:00:00\n",
      "Installing collected packages: pyorc\n",
      "Successfully installed pyorc-0.9.0\n"
     ]
    }
   ],
   "source": [
    "!pip install pyorc"
   ]
  },
  {
   "cell_type": "code",
   "execution_count": 4,
   "metadata": {},
   "outputs": [],
   "source": [
    "import pyorc\n",
    "import datetime\n",
    "\n",
    "file_path = './data/orc/example.orc'"
   ]
  },
  {
   "cell_type": "code",
   "execution_count": 5,
   "metadata": {},
   "outputs": [],
   "source": [
    "# ORCファイルへの書き込み\n",
    "with open(file_path, \"wb\") as f:\n",
    "    writer = pyorc.Writer(f, \"struct<ProductID:int,SaleDate:string,Region:string,Quantity:int,TotalSale:double>\", compression=pyorc.CompressionKind.ZLIB)\n",
    "\n",
    "    # データを追加\n",
    "    writer.write((12345, \"2022-01-01\", \"North\", 10, 100.00))\n",
    "    writer.write((12346, \"2022-01-01\", \"West\", 5, 50.00))\n",
    "    writer.write((12347, \"2022-01-01\", \"East\", 20, 200.00))\n",
    "    writer.write((12345, \"2022-01-02\", \"North\", 7, 70.00))\n",
    "    writer.write((12346, \"2022-01-02\", \"West\", 3, 30.00))\n",
    "\n",
    "    # ファイルを閉じるときに書き込みを完了\n",
    "    writer.close()"
   ]
  },
  {
   "cell_type": "code",
   "execution_count": 7,
   "metadata": {},
   "outputs": [
    {
     "name": "stdout",
     "output_type": "stream",
     "text": [
      "(12345, '2022-01-01', 'North', 10, 100.0)\n",
      "(12346, '2022-01-01', 'West', 5, 50.0)\n",
      "(12347, '2022-01-01', 'East', 20, 200.0)\n",
      "(12345, '2022-01-02', 'North', 7, 70.0)\n",
      "(12346, '2022-01-02', 'West', 3, 30.0)\n"
     ]
    }
   ],
   "source": [
    "# 書き込まれたデータの確認\n",
    "with open(file_path, \"rb\") as f:\n",
    "    reader = pyorc.Reader(f)\n",
    "    for row in reader:\n",
    "        print(row)"
   ]
  },
  {
   "cell_type": "code",
   "execution_count": null,
   "metadata": {},
   "outputs": [],
   "source": []
  }
 ],
 "metadata": {
  "kernelspec": {
   "display_name": "notebook-svfl05lh-py3.12",
   "language": "python",
   "name": "python3"
  },
  "language_info": {
   "codemirror_mode": {
    "name": "ipython",
    "version": 3
   },
   "file_extension": ".py",
   "mimetype": "text/x-python",
   "name": "python",
   "nbconvert_exporter": "python",
   "pygments_lexer": "ipython3",
   "version": "3.12.3"
  }
 },
 "nbformat": 4,
 "nbformat_minor": 2
}
